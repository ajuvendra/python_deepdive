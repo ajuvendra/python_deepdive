{
 "cells": [
  {
   "cell_type": "code",
   "execution_count": 1,
   "metadata": {},
   "outputs": [],
   "source": [
    "# Identifiiers are names given to entities like variables, functions, classes, etc. It helps to differentiate one entity from another.\n",
    "# Rules for writing identifiers\n",
    "    # Identifiers can be a combination of letters in lowercase (a to z) or uppercase (A to Z) or digits (0 to 9) or an underscore (_).\n",
    "    # An identifier cannot start with a digit. 1variable is invalid, but variable1 is perfectly fine.\n",
    "    # Keywords cannot be used as identifiers.\n",
    "    # We cannot use special symbols like !, @, #, $, % etc. in our identifier.\n",
    "    # Identifier can be of any length.\n",
    "# Python is a case-sensitive language. This means, Variable and variable are not the same.\n",
    "# Python is a dynamically typed language. This means, we don't need to specify the type of the variable explicitly. The interpreter implicitly binds the value with its type.\n",
    "# Python allows us to assign a single value to several variables simultaneously.\n",
    "# Python allows us to assign values to multiple variables in a single line.\n",
    "\n",
    "# Conventions\n",
    "# _my_var: \n",
    "    # this is a private variable or to use for internal purpose\n",
    "    # It will not get imported by statement like 'from module import *'\n",
    "# __my_var:\n",
    "    # this is a protected variable\n",
    "    # Used to mangle class attributes\n",
    "# __my_var__:\n",
    "    # this is a magic variable\n",
    "    # These are system defined variables\n",
    "    # Don't create your own magic variables\n",
    "    # exa: __name__, __init__, __main__, etc\n"
   ]
  },
  {
   "cell_type": "code",
   "execution_count": 2,
   "metadata": {},
   "outputs": [],
   "source": [
    "# Naming conventions for \n",
    "    # Packages: short, all-lowercase names, preferably no underscores. eg. utilities, models, helpers, etc\n",
    "    # Modules: short, all-lowercase names, can have underscores. eg. db_utils, data_models, etc\n",
    "    # Classes: CapWords (Upper camel case convention). eg. User, BankAccount, Car, etc\n",
    "    # Functions: lowercase, words separated by underscores. eg. get_user, get_account_details, etc\n",
    "    # Variables: lowercase, words separated by underscores. eg. user_name, account_number, etc\n",
    "    # Constants: all-uppercase, words separated by underscores. eg. PI, G, MASS, MIN_APR etc\n"
   ]
  },
  {
   "cell_type": "code",
   "execution_count": null,
   "metadata": {},
   "outputs": [],
   "source": [
    "\n",
    "# Conditional Statements"
   ]
  },
  {
   "cell_type": "code",
   "execution_count": 3,
   "metadata": {},
   "outputs": [
    {
     "name": "stdout",
     "output_type": "stream",
     "text": [
      "a is equal to 5\n"
     ]
    }
   ],
   "source": [
    "a = 5\n",
    "if a == 5:\n",
    "    print(\"a is equal to 5\")\n",
    "else:\n",
    "    print(\"a is not equal to 5\")"
   ]
  },
  {
   "cell_type": "code",
   "execution_count": 4,
   "metadata": {},
   "outputs": [
    {
     "name": "stdout",
     "output_type": "stream",
     "text": [
      "a is greater than or equal to 10\n"
     ]
    }
   ],
   "source": [
    "a = 10\n",
    "\n",
    "if a < 5:\n",
    "    print(\"a is less than 5\")\n",
    "else:\n",
    "    if a < 10:\n",
    "        print(\"5 <= a < 10\")\n",
    "    else:\n",
    "        print(\"a is greater than or equal to 10\")\n",
    "        "
   ]
  },
  {
   "cell_type": "code",
   "execution_count": 7,
   "metadata": {},
   "outputs": [
    {
     "name": "stdout",
     "output_type": "stream",
     "text": [
      "15 <= a < 20\n"
     ]
    }
   ],
   "source": [
    "a = 15\n",
    "\n",
    "if a < 5:\n",
    "    print(\"a is less than 5\")\n",
    "elif a < 10:\n",
    "    print(\"5 <= a < 10\")\n",
    "elif a < 15:\n",
    "    print(\"10 <= a < 15\")\n",
    "elif a < 20:\n",
    "    print(\"15 <= a < 20\")\n",
    "else:\n",
    "    print(\"a >= 20\")\n"
   ]
  },
  {
   "cell_type": "code",
   "execution_count": 10,
   "metadata": {},
   "outputs": [],
   "source": [
    "a = 2\n",
    "b = 'a < 5' if a < 5 else 'a >= 5'"
   ]
  },
  {
   "cell_type": "code",
   "execution_count": 11,
   "metadata": {},
   "outputs": [
    {
     "data": {
      "text/plain": [
       "'a < 5'"
      ]
     },
     "execution_count": 11,
     "metadata": {},
     "output_type": "execute_result"
    }
   ],
   "source": [
    "b"
   ]
  },
  {
   "cell_type": "code",
   "execution_count": null,
   "metadata": {},
   "outputs": [],
   "source": []
  }
 ],
 "metadata": {
  "kernelspec": {
   "display_name": "Python 3",
   "language": "python",
   "name": "python3"
  },
  "language_info": {
   "codemirror_mode": {
    "name": "ipython",
    "version": 3
   },
   "file_extension": ".py",
   "mimetype": "text/x-python",
   "name": "python",
   "nbconvert_exporter": "python",
   "pygments_lexer": "ipython3",
   "version": "3.9.13"
  }
 },
 "nbformat": 4,
 "nbformat_minor": 2
}
